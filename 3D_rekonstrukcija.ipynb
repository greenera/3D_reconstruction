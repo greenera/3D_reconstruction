{
 "cells": [
  {
   "cell_type": "code",
   "execution_count": 1,
   "metadata": {},
   "outputs": [],
   "source": [
    "import numpy as np"
   ]
  },
  {
   "cell_type": "code",
   "execution_count": 163,
   "metadata": {},
   "outputs": [],
   "source": [
    "# Ovde su sve tacke cije su koordinate procitane sa slike.\n",
    "\n",
    "# left\n",
    "x1 = np.array([332, 74, 1])\n",
    "x2 = np.array([500, 54, 1])\n",
    "x3 = np.array([717, 165, 1])\n",
    "x4 = np.array([537, 188, 1])\n",
    "x5 = np.array([328, 293, 1])\n",
    "x6 = np.array([])\n",
    "x7 = np.array([713, 402, 1])\n",
    "x8 = np.array([537, 429, 1])\n",
    "x9 = np.array([259, 339, 1])\n",
    "x10 = np.array([])\n",
    "x11 = np.array([773, 365, 1])\n",
    "x12 = np.array([311, 408, 1])\n",
    "x13 = np.array([266, 591, 1])\n",
    "x14 = np.array([])\n",
    "x15 = np.array([768, 615, 1])\n",
    "x16 = np.array([313, 671, 1])\n",
    "x17 = np.array([91, 629, 1])\n",
    "x18 = np.array([])\n",
    "x19 = np.array([925, 599, 1])\n",
    "x20 = np.array([699, 782, 1])\n",
    "x21 = np.array([93, 824, 1])\n",
    "x22 = np.array([])\n",
    "x23 = np.array([918, 788, 1])\n",
    "x24 = np.array([695, 987, 1])\n",
    "\n",
    "# right\n",
    "y1 = np.array([392, 75, 1])\n",
    "y2 = np.array([563, 73, 1])\n",
    "y3 = np.array([566, 197, 1])\n",
    "y4 = np.array([370, 198, 1])\n",
    "y5 = np.array([])\n",
    "y6 = np.array([])\n",
    "y7 = np.array([567, 424, 1])\n",
    "y8 = np.array([375, 424, 1])\n",
    "y9 = np.array([280, 312, 1])\n",
    "y10 = np.array([714, 331, 1])\n",
    "y11 = np.array([686, 401, 1])\n",
    "y12 = np.array([234, 378, 1])\n",
    "y13 = np.array([])\n",
    "y14 = np.array([716, 555, 1])\n",
    "y15 = np.array([685, 641, 1])\n",
    "y16 = np.array([245, 615, 1])\n",
    "y17 = np.array([121, 549, 1])\n",
    "y18 = np.array([])\n",
    "y19 = np.array([861, 652, 1])\n",
    "y20 = np.array([458, 779, 1])\n",
    "y21 = np.array([127, 721, 1])\n",
    "y22 = np.array([])\n",
    "y23 = np.array([858, 837, 1])\n",
    "y24 = np.array([461, 976, 1])"
   ]
  },
  {
   "cell_type": "code",
   "execution_count": 164,
   "metadata": {},
   "outputs": [
    {
     "name": "stdout",
     "output_type": "stream",
     "text": [
      "x6: [501. 275.   1.]\n",
      "y6: [564. 274.   1.]\n",
      "y5: [396. 275.   1.]\n",
      "x10: [691. 302.   1.]\n",
      "x14: [694. 542.   1.]\n",
      "y13: [295. 531.   1.]\n",
      "[295. 531.   1.]\n"
     ]
    }
   ],
   "source": [
    "# Odredjivanje nedostajucih tacaka.\n",
    "\n",
    "def cross(x, y):\n",
    "    z = np.cross(x, y)\n",
    "    return z * (1/z[2])\n",
    "\n",
    "# teeakane\n",
    "# left\n",
    "x6 = cross(cross(cross(cross(x4, x1), cross(x3, x2)), x7), \n",
    "           cross(cross(cross(x8, x4), cross(x7, x3)), x2))\n",
    "x6 = np.round(x6 * (1/x6[2]))\n",
    "print('x6:', x6)\n",
    "# right\n",
    "y6 = cross(cross(cross(cross(y4, y1), cross(y3, y2)), y7), \n",
    "           cross(cross(cross(y8, y4), cross(y7, y3)), y2))\n",
    "y6 = np.round(y6 * (1/y6[2]))\n",
    "print('y6:', y6)\n",
    "\n",
    "y5 = cross(cross(cross(cross(y4, y1), cross(y3, y2)), y8), \n",
    "           cross(cross(cross(y8, y4), cross(y7, y3)), y1))\n",
    "y5 = np.round(y5 * (1/y5[2]))\n",
    "print('y5:', y5)\n",
    "\n",
    "#mobile\n",
    "# left\n",
    "x10 = cross(cross(cross(cross(x12, x11), cross(x16, x15)), x9), \n",
    "           cross(cross(cross(x9, x12), cross(x13, x16)), x11))\n",
    "x10 = np.round(x10 * (1/x10[2]))\n",
    "print('x10:', x10)\n",
    "\n",
    "x14 = cross(cross(cross(cross(x12, x11), cross(x16, x15)), x13), \n",
    "           cross(cross(cross(x9, x12), cross(x13, x16)), x15))\n",
    "x14 = np.round(x14 * (1/x14[2]))\n",
    "print('x14:', x14)\n",
    "\n",
    "# right\n",
    "y13 = cross(cross(cross(cross(y12, y11), cross(y16, y15)), y14), \n",
    "           cross(cross(cross(y9, y12), cross(y11, y10)), y16))\n",
    "y13 = np.round(y13 * (1/y13[2]))\n",
    "print('y13:', y13)\n",
    "\n",
    "# Toy\n",
    "# left\n",
    "\n",
    "\n",
    "# right\n",
    "y13 = cross(cross(cross(cross(y12, y11), cross(y16, y15)), y14), \n",
    "           cross(cross(cross(y9, y12), cross(y11, y10)), y16))\n",
    "y13 = np.round(y13 * (1/y13[2]))\n",
    "print(y13)\n",
    "\n",
    "\n",
    "# Naravno, ovde je samo gruba procena. Najbolje bi bilo praviti\n",
    "# preseke vise od dve paralelne prave, tacnije svih koje znamo (vidimo)."
   ]
  },
  {
   "cell_type": "code",
   "execution_count": 3,
   "metadata": {},
   "outputs": [],
   "source": [
    "xx = np.array([x1, x2, x3, x4, x9, x10, x11, x12])\n",
    "yy = np.array([y1, y2, y3, y4, y9, y10, y11, y12])\n",
    "# Ovo je osam tacaka na osnovu kojih odredjujemo F = FF. \n",
    "# Mogli smo uzeti i vise od 8 (teorijski i 7, ali onda je postupak nesto\n",
    "# drugaciji.)\n",
    "\n",
    "# Radi jednostavnosti nastavljamo bez normalizacije."
   ]
  },
  {
   "cell_type": "code",
   "execution_count": 4,
   "metadata": {},
   "outputs": [],
   "source": [
    "def jed(t2, t1):\n",
    "    niz = np.array([t1[0]*t2[0], t1[0]*t2[1], t1[0]*t2[2],\n",
    "                    t1[1]*t2[0], t1[1]*t2[1], t1[1]*t2[2],\n",
    "                    t1[2]*t2[0], t1[2]*t2[1], t1[2]*t2[2]])\n",
    "    #print(niz)\n",
    "    return niz"
   ]
  },
  {
   "cell_type": "code",
   "execution_count": 5,
   "metadata": {},
   "outputs": [
    {
     "name": "stdout",
     "output_type": "stream",
     "text": [
      "[[ 893814   35454     933   31614    1254      33     958      38       1]\n",
      " [1147159  113997    1027  147444   14652     132    1117     111       1]\n",
      " [ 604808  197220     692  194902   63555     223     874     285       1]\n",
      " [ 420665  129710     595   86961   26814     123     707     218       1]\n",
      " [  79424  154768     272  105120  204840     360     292     569       1]\n",
      " [ 332640  418608     432  626780  788766     814     770     969       1]\n",
      " [ 318780  606510     414  988680 1881060    1284     770    1465       1]\n",
      " [  81786  272706     258  259306  864626     818     317    1057       1]]\n"
     ]
    }
   ],
   "source": [
    "M = np.zeros(9, dtype=int)\n",
    "for i in range(8):\n",
    "    M = np.vstack((M,jed(xx[i], yy[i])))\n",
    "    \n",
    "M = M[1:, :]   \n",
    "print(M)\n",
    "# Ovo je matrica formata 8x9 koja predstavlja 8 jednacina \n",
    "# dobijenih iz korespodencija."
   ]
  },
  {
   "cell_type": "code",
   "execution_count": 6,
   "metadata": {},
   "outputs": [],
   "source": [
    "def DLT(matrica):\n",
    "        u, s, v = np.linalg.svd(matrica, full_matrices=True)\n",
    "        \n",
    "        return v.T[:,-1]"
   ]
  },
  {
   "cell_type": "code",
   "execution_count": 7,
   "metadata": {},
   "outputs": [
    {
     "name": "stdout",
     "output_type": "stream",
     "text": [
      "[[ 4.54020258e-07 -7.42529108e-07 -1.86611244e-03]\n",
      " [-1.99099442e-07  2.11775653e-07  2.77795603e-03]\n",
      " [ 3.96239362e-04 -2.72717967e-03  9.99990603e-01]]\n"
     ]
    }
   ],
   "source": [
    "FF = DLT(M)\n",
    "FF = FF.reshape(3,3)\n",
    "print(FF)\n",
    "# Od V vektora SVD dekompozicije DLT algoritma uzmamo poslednju kolonu\n",
    "# koja nam predstavlja FF matricu i [f11, f121, .. f33]"
   ]
  },
  {
   "cell_type": "code",
   "execution_count": 8,
   "metadata": {},
   "outputs": [
    {
     "name": "stdout",
     "output_type": "stream",
     "text": [
      "_____________\n",
      "-2.220446049250313e-16\n",
      "_____________\n",
      "-1.3389289676979388e-13\n",
      "_____________\n",
      "-2.8310687127941492e-14\n",
      "_____________\n",
      "-3.008704396734174e-14\n",
      "_____________\n",
      "3.297362383136715e-14\n",
      "_____________\n",
      "1.5876189252139739e-13\n",
      "_____________\n",
      "2.9620750296999176e-13\n",
      "_____________\n",
      "1.092459456231154e-13\n",
      "Test prosao!\n",
      "det_f: 1.7139674179610817e-12\n"
     ]
    }
   ],
   "source": [
    "def test(FF, xx, yy):\n",
    "    for i in range(8):\n",
    "        print('_____________')\n",
    "        rez = yy[i].dot(FF.dot(xx[i]))\n",
    "        print(rez)\n",
    "        if (not (abs(rez) < 9.0e-10)):\n",
    "            print(yy[i], xx[i], 'nije ni bliska nuli')\n",
    "            return;\n",
    "    print('Test prosao!')\n",
    "    \n",
    "test(FF, xx, yy)\n",
    "# Pokrecemo test koji ne radi\n",
    "\n",
    "print('det_f:', np.linalg.det(FF))\n",
    "# proveravamo je li determinanta bliska nuli"
   ]
  },
  {
   "cell_type": "code",
   "execution_count": 9,
   "metadata": {
    "scrolled": true
   },
   "outputs": [
    {
     "name": "stdout",
     "output_type": "stream",
     "text": [
      "u: [[ 1.86610315e-03  6.01930967e-01 -7.98545947e-01]\n",
      " [-2.77794482e-03 -7.98541135e-01 -6.01933832e-01]\n",
      " [-9.99994400e-01  3.34158720e-03  1.81970886e-04]]\n",
      "\n",
      "DD: [1.00000000e+00 9.88646915e-06 1.73364969e-07]\n",
      "\n",
      "v: [[-3.96235743e-04  2.72716243e-03 -9.99996203e-01]\n",
      " [ 1.77651525e-01 -9.84089605e-01 -2.75417454e-03]\n",
      " [-9.84093379e-01 -1.77651942e-01 -9.45530903e-05]]\n",
      "e1 [-9.84093379e-01 -1.77651942e-01 -9.45530903e-05]\n"
     ]
    }
   ],
   "source": [
    "u, DD, v = np.linalg.svd(FF, full_matrices=True)\n",
    "print('u:', u)\n",
    "print()\n",
    "print('DD:', DD)\n",
    "print()\n",
    "print('v:', v)\n",
    "\n",
    "e1 = v[-1]\n",
    "print('e1', e1)\n",
    "# Treca kolona matrice v je trazeni epipol. Ta treca kolona odgovara\n",
    "# najmanjoj sopstvenoj vrednosti matrice.\n",
    "\n",
    "#FIXME: zasto ovde nije dobar znak? Proveriti.."
   ]
  },
  {
   "cell_type": "code",
   "execution_count": 10,
   "metadata": {},
   "outputs": [
    {
     "name": "stdout",
     "output_type": "stream",
     "text": [
      "[1.04078394e+04 1.87885919e+03 1.00000000e+00]\n"
     ]
    }
   ],
   "source": [
    "e1 = e1 * (1/e1[2])\n",
    "print(e1)\n",
    "\n",
    "# Afine koordinate epipola e1."
   ]
  },
  {
   "cell_type": "code",
   "execution_count": 11,
   "metadata": {},
   "outputs": [
    {
     "name": "stdout",
     "output_type": "stream",
     "text": [
      "[-7.98545947e-01 -6.01933832e-01  1.81970886e-04]\n",
      "e2 [-4.38831707e+03 -3.30785789e+03  1.00000000e+00]\n"
     ]
    }
   ],
   "source": [
    "e2 = u[:,-1]\n",
    "print(e2)\n",
    "\n",
    "# Da bi nasli e2 treba da resimo F.te2=0. Medjutim, primetimo da je\n",
    "# Ft = UDV = (UDV.t).t = VDU.t. Ako je (U,D,V) SVD dekompozicija od F\n",
    "# onda je (V,D,U) SVD dekompozicija od F.t. Zato je e2 treca kolona od U\n",
    "\n",
    "e2 = e2 * (1/e2[2])\n",
    "print('e2', e2)\n",
    "\n",
    "# Afina koordinata epipola e2."
   ]
  },
  {
   "cell_type": "code",
   "execution_count": 12,
   "metadata": {},
   "outputs": [
    {
     "name": "stdout",
     "output_type": "stream",
     "text": [
      "DD1: [[1.00000000e+00 0.00000000e+00 0.00000000e+00]\n",
      " [0.00000000e+00 9.88646915e-06 0.00000000e+00]\n",
      " [0.00000000e+00 0.00000000e+00 0.00000000e+00]]\n",
      "FF1: [[ 3.17782475e-07 -7.67123224e-07 -1.86611245e-03]\n",
      " [-3.01793759e-07  1.93236919e-07  2.77795602e-03]\n",
      " [ 3.96239393e-04 -2.72717967e-03  9.99990603e-01]]\n",
      "FF: [[ 4.54020258e-07 -7.42529108e-07 -1.86611244e-03]\n",
      " [-1.99099442e-07  2.11775653e-07  2.77795603e-03]\n",
      " [ 3.96239362e-04 -2.72717967e-03  9.99990603e-01]]\n"
     ]
    }
   ],
   "source": [
    "DD1 = np.diag(DD).dot(np.diag([1,1,0]))\n",
    "print('DD1:', DD1)\n",
    "\n",
    "FF1 = u.dot(DD1.dot(v))\n",
    "print('FF1:', FF1)\n",
    "print('FF:', FF)"
   ]
  },
  {
   "cell_type": "code",
   "execution_count": 13,
   "metadata": {},
   "outputs": [
    {
     "name": "stdout",
     "output_type": "stream",
     "text": [
      "|FF|: 1.7139674179610817e-12\n",
      "|FF1|: -2.2661317565660434e-27\n"
     ]
    }
   ],
   "source": [
    "print('|FF|:', np.linalg.det(FF))\n",
    "print('|FF1|:', np.linalg.det(FF1)) # FIXME: mozda je problematicno sto je ista kao FF1 kod prof\n",
    "\n",
    "# Primetimo da imaju iste U i V u SVD dekompoziciji. Zato imaju \n",
    "# i iste epipolove."
   ]
  },
  {
   "cell_type": "code",
   "execution_count": 14,
   "metadata": {},
   "outputs": [],
   "source": [
    "\n"
   ]
  },
  {
   "cell_type": "code",
   "execution_count": 124,
   "metadata": {},
   "outputs": [
    {
     "name": "stdout",
     "output_type": "stream",
     "text": [
      "[[1. 0. 0. 0.]\n",
      " [0. 1. 0. 0.]\n",
      " [0. 0. 1. 0.]]\n"
     ]
    }
   ],
   "source": [
    "# Triangulacija\n",
    "T1 = np.identity(3)\n",
    "T1 = np.vstack((T1, np.zeros(3)))\n",
    "T1 = T1.T\n",
    "print(T1)"
   ]
  },
  {
   "cell_type": "code",
   "execution_count": 125,
   "metadata": {},
   "outputs": [],
   "source": [
    "def vec(niz):\n",
    "    p1, p2, p3 = niz\n",
    "    m = np.array([[0, -p3, p2],\n",
    "                  [p3, 0, -p1],\n",
    "                  [-p2, p1, 0]])\n",
    "    return m\n",
    "\n",
    "#Matrica vektorskog mnozenja, kao kod rodrigeza"
   ]
  },
  {
   "cell_type": "code",
   "execution_count": 126,
   "metadata": {},
   "outputs": [
    {
     "data": {
      "text/plain": [
       "array([[ 0.00000000e+00, -1.00000000e+00, -3.30785789e+03],\n",
       "       [ 1.00000000e+00,  0.00000000e+00,  4.38831707e+03],\n",
       "       [ 3.30785789e+03, -4.38831707e+03,  0.00000000e+00]])"
      ]
     },
     "execution_count": 126,
     "metadata": {},
     "output_type": "execute_result"
    }
   ],
   "source": [
    "E2 = vec(e2)\n",
    "E2"
   ]
  },
  {
   "cell_type": "code",
   "execution_count": 127,
   "metadata": {},
   "outputs": [
    {
     "name": "stdout",
     "output_type": "stream",
     "text": [
      "E2.FF1: [[-1.31070330e+00  9.02112258e+00 -3.30782958e+03]\n",
      " [ 1.73882441e+00 -1.19677298e+01  4.38827396e+03]\n",
      " [ 2.37554597e-03 -3.38551948e-03 -1.83633866e+01]]\n",
      "e2: [-4.38831707e+03 -3.30785789e+03  1.00000000e+00]\n",
      "T2: [[-1.31070330e+00  9.02112258e+00 -3.30782958e+03 -4.38831707e+03]\n",
      " [ 1.73882441e+00 -1.19677298e+01  4.38827396e+03 -3.30785789e+03]\n",
      " [ 2.37554597e-03 -3.38551948e-03 -1.83633866e+01  1.00000000e+00]]\n"
     ]
    }
   ],
   "source": [
    "T2 = E2.dot(FF1)\n",
    "print('E2.FF1:', T2)\n",
    "print('e2:', e2)\n",
    "T2 = np.hstack((T2, e2.reshape(3,1)))\n",
    "print('T2:', T2)\n",
    "\n",
    "# Za svaku tacku dobijamo sistem od 4 jednacine, mogli bi uzeti\n",
    "# i samo 3 jednacine."
   ]
  },
  {
   "cell_type": "code",
   "execution_count": 156,
   "metadata": {},
   "outputs": [],
   "source": [
    "def jednacine(x, y, T1, T2):\n",
    "    return np.array([x[1]*T1[2] - x[2]*T1[1],\n",
    "                    -x[0]*T1[2] + x[2]*T1[0],\n",
    "                     y[1]*T2[2] - y[2]*T2[1],\n",
    "                    -y[0]*T2[2] + y[2]*T2[0]])"
   ]
  },
  {
   "cell_type": "code",
   "execution_count": 157,
   "metadata": {},
   "outputs": [],
   "source": [
    "def uAfine(xx):\n",
    "    xx = xx * 1/xx[3]\n",
    "    return xx[:-1]"
   ]
  },
  {
   "cell_type": "code",
   "execution_count": 160,
   "metadata": {},
   "outputs": [
    {
     "name": "stdout",
     "output_type": "stream",
     "text": [
      "[[ 0.00000000e+00 -1.00000000e+00  3.80000000e+01  0.00000000e+00]\n",
      " [ 1.00000000e+00  0.00000000e+00 -9.58000000e+02  0.00000000e+00]\n",
      " [-1.66043139e+00  1.18560077e+01 -4.99426572e+03  3.34085789e+03]\n",
      " [-3.52708769e+00  1.21798123e+01  1.38252101e+04 -5.32131707e+03]]\n",
      "u: [[-0.00219542 -0.01141793  0.23727863 -0.97137205]\n",
      " [ 0.05534849  0.28807879 -0.9278848  -0.23016722]\n",
      " [ 0.36943898 -0.89537502 -0.24359204 -0.04981297]\n",
      " [-0.92760259 -0.33938741 -0.15294303 -0.03127383]]\n",
      "d: [1.59632182e+04 1.28531119e+03 4.98847967e+00 3.71509415e-02]\n",
      "v:\n",
      " [[ 1.69994298e-04  2.31215349e-03  3.21270959e-03 -9.99992152e-01]\n",
      " [-4.33230845e-04 -1.14663517e-02 -9.99928919e-01 -3.23909226e-03]\n",
      " [-9.22275460e-01 -3.86501654e-01  4.83501792e-03 -1.03490733e-03]\n",
      " [ 3.86533000e-01 -9.22214535e-01  1.04143040e-02 -2.03315097e-03]]\n"
     ]
    }
   ],
   "source": [
    "# Iz tih jednacina, koje zavise od leve i desne projekcije tacke,\n",
    "# se rekonstruise odgovarajuca tacka prostora. Naravno, koristimo\n",
    "# u funkciji 'jednacine' matrice kamera T1 i T2. Evo kako izgleda na \n",
    "# primeru prve tacke.\n",
    "\n",
    "t = jednacine(x1, y1, T1, T2)\n",
    "print(t)\n",
    "\n",
    "u, d, v = np.linalg.svd(t)\n",
    "print('u:', u)\n",
    "print('d:', d)\n",
    "print('v:\\n', v.T)"
   ]
  },
  {
   "cell_type": "code",
   "execution_count": 151,
   "metadata": {},
   "outputs": [
    {
     "name": "stdout",
     "output_type": "stream",
     "text": [
      "[-0.99999215 -0.00323909 -0.00103491 -0.00203315]\n",
      "[491.84353036   1.59313908   0.50901647]\n"
     ]
    },
    {
     "data": {
      "text/plain": [
       "array([[0.00000000e+00, 0.00000000e+00, 0.00000000e+00],\n",
       "       [4.91843530e+02, 1.59313908e+00, 5.09016470e-01],\n",
       "       [5.04614316e+02, 2.83555175e+01, 4.47171241e-01],\n",
       "       [4.62901701e+02, 1.32736814e+02, 5.25575362e-01],\n",
       "       [4.51538241e+02, 1.24865100e+02, 6.34769216e-01],\n",
       "       [3.84165158e+02, 1.28745096e+02, 3.87166945e-01],\n",
       "       [4.02597956e+02, 1.34081479e+02, 3.52730610e-01],\n",
       "       [3.41967744e+02, 2.38664138e+02, 3.85483291e-01],\n",
       "       [3.18681226e+02, 2.46478590e+02, 4.37378816e-01],\n",
       "       [2.04982319e+02, 3.90574979e+02, 6.98659210e-01],\n",
       "       [2.99381985e+02, 3.56356779e+02, 3.85907327e-01],\n",
       "       [2.18131111e+02, 3.92907417e+02, 2.81440333e-01],\n",
       "       [1.33994812e+02, 4.34968096e+02, 4.20089046e-01],\n",
       "       [4.03900129e+02, 4.66971247e+01, 3.90915088e-01],\n",
       "       [4.58570726e+02, 1.19093832e+02, 2.96527638e-01],\n",
       "       [3.86631275e+02, 1.84150621e+02, 2.46041404e-01],\n",
       "       [3.35312631e+02, 1.40080910e+02, 3.05685940e-01]])"
      ]
     },
     "execution_count": 151,
     "metadata": {},
     "output_type": "execute_result"
    }
   ],
   "source": [
    "p = v[3]\n",
    "print(p)\n",
    "s1 = uAfine(p)\n",
    "print(s1)\n",
    "\n",
    "slika1 = np.array([x1,x2,x3,x4,x5,x6,x7,x8,x9,x10,x11,x12,x13,x14,x15,x16])\n",
    "slika2 = np.array([y1,y2,y3,y4,y5,y6,y7,y8,y9,y10,y11,y12,y13,y14,y15,y16])\n",
    "\n",
    "rekonstruisane = np.array([0, 0, 0], dtype = int)\n",
    "\n",
    "for i in range(16):\n",
    "    u, d, v = np.linalg.svd(jednacine(slika1[i], slika2[i], T1, T2))\n",
    "    rekonstruisane = np.vstack((rekonstruisane, uAfine(v[3])))\n",
    "    \n",
    "rekonstruisane"
   ]
  },
  {
   "cell_type": "code",
   "execution_count": null,
   "metadata": {},
   "outputs": [],
   "source": []
  }
 ],
 "metadata": {
  "kernelspec": {
   "display_name": "Python 3",
   "language": "python",
   "name": "python3"
  },
  "language_info": {
   "codemirror_mode": {
    "name": "ipython",
    "version": 3
   },
   "file_extension": ".py",
   "mimetype": "text/x-python",
   "name": "python",
   "nbconvert_exporter": "python",
   "pygments_lexer": "ipython3",
   "version": "3.7.4"
  }
 },
 "nbformat": 4,
 "nbformat_minor": 2
}
