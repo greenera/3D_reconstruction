{
 "cells": [
  {
   "cell_type": "code",
   "execution_count": 167,
   "metadata": {},
   "outputs": [],
   "source": [
    "import numpy as np"
   ]
  },
  {
   "cell_type": "code",
   "execution_count": 168,
   "metadata": {},
   "outputs": [],
   "source": [
    "# Ovde su sve tacke cije su koordinate procitane sa slike.\n",
    "\n",
    "# left\n",
    "x1 = np.array([332, 74, 1])\n",
    "x2 = np.array([500, 54, 1])\n",
    "x3 = np.array([717, 165, 1])\n",
    "x4 = np.array([537, 188, 1])\n",
    "x5 = np.array([328, 293, 1])\n",
    "x6 = np.array([])\n",
    "x7 = np.array([713, 402, 1])\n",
    "x8 = np.array([537, 429, 1])\n",
    "x9 = np.array([259, 339, 1])\n",
    "x10 = np.array([])\n",
    "x11 = np.array([773, 365, 1])\n",
    "x12 = np.array([311, 408, 1])\n",
    "x13 = np.array([266, 591, 1])\n",
    "x14 = np.array([])\n",
    "x15 = np.array([768, 615, 1])\n",
    "x16 = np.array([313, 671, 1])\n",
    "x17 = np.array([91, 629, 1])\n",
    "x18 = np.array([])\n",
    "x19 = np.array([925, 599, 1])\n",
    "x20 = np.array([699, 782, 1])\n",
    "x21 = np.array([93, 824, 1])\n",
    "x22 = np.array([])\n",
    "x23 = np.array([918, 788, 1])\n",
    "x24 = np.array([695, 987, 1])\n",
    "\n",
    "# right\n",
    "y1 = np.array([392, 75, 1])\n",
    "y2 = np.array([563, 73, 1])\n",
    "y3 = np.array([566, 197, 1])\n",
    "y4 = np.array([370, 198, 1])\n",
    "y5 = np.array([])\n",
    "y6 = np.array([])\n",
    "y7 = np.array([567, 424, 1])\n",
    "y8 = np.array([375, 424, 1])\n",
    "y9 = np.array([280, 312, 1])\n",
    "y10 = np.array([714, 331, 1])\n",
    "y11 = np.array([686, 401, 1])\n",
    "y12 = np.array([234, 378, 1])\n",
    "y13 = np.array([])\n",
    "y14 = np.array([716, 555, 1])\n",
    "y15 = np.array([685, 641, 1])\n",
    "y16 = np.array([245, 615, 1])\n",
    "y17 = np.array([121, 549, 1])\n",
    "y18 = np.array([])\n",
    "y19 = np.array([861, 652, 1])\n",
    "y20 = np.array([458, 779, 1])\n",
    "y21 = np.array([127, 721, 1])\n",
    "y22 = np.array([])\n",
    "y23 = np.array([858, 837, 1])\n",
    "y24 = np.array([461, 976, 1])"
   ]
  },
  {
   "cell_type": "code",
   "execution_count": 169,
   "metadata": {},
   "outputs": [
    {
     "name": "stdout",
     "output_type": "stream",
     "text": [
      "x6: [501. 275.   1.]\n",
      "y6: [564. 274.   1.]\n",
      "y5: [396. 275.   1.]\n",
      "x10: [691. 302.   1.]\n",
      "x14: [694. 542.   1.]\n",
      "y13: [295. 531.   1.]\n",
      "x18: [359. 469.   1.]\n",
      "x22: [357. 649.   1.]\n",
      "y18: [492. 453.   1.]\n",
      "y22: [493. 616.   1.]\n"
     ]
    }
   ],
   "source": [
    "# Odredjivanje nedostajucih tacaka.\n",
    "\n",
    "def cross(x, y):\n",
    "    z = np.cross(x, y)\n",
    "    return z * (1/z[2])\n",
    "\n",
    "# teeakane\n",
    "# left\n",
    "x6 = cross(cross(cross(cross(x4, x1), cross(x3, x2)), x7), \n",
    "           cross(cross(cross(x8, x4), cross(x7, x3)), x2))\n",
    "x6 = np.round(x6 * (1/x6[2]))\n",
    "print('x6:', x6)\n",
    "# right\n",
    "y6 = cross(cross(cross(cross(y4, y1), cross(y3, y2)), y7), \n",
    "           cross(cross(cross(y8, y4), cross(y7, y3)), y2))\n",
    "y6 = np.round(y6 * (1/y6[2]))\n",
    "print('y6:', y6)\n",
    "\n",
    "y5 = cross(cross(cross(cross(y4, y1), cross(y3, y2)), y8), \n",
    "           cross(cross(cross(y8, y4), cross(y7, y3)), y1))\n",
    "y5 = np.round(y5 * (1/y5[2]))\n",
    "print('y5:', y5)\n",
    "\n",
    "#mobile\n",
    "# left\n",
    "x10 = cross(cross(cross(cross(x12, x11), cross(x16, x15)), x9), \n",
    "           cross(cross(cross(x9, x12), cross(x13, x16)), x11))\n",
    "x10 = np.round(x10 * (1/x10[2]))\n",
    "print('x10:', x10)\n",
    "\n",
    "x14 = cross(cross(cross(cross(x12, x11), cross(x16, x15)), x13), \n",
    "           cross(cross(cross(x9, x12), cross(x13, x16)), x15))\n",
    "x14 = np.round(x14 * (1/x14[2]))\n",
    "print('x14:', x14)\n",
    "\n",
    "# right\n",
    "y13 = cross(cross(cross(cross(y12, y11), cross(y16, y15)), y14), \n",
    "           cross(cross(cross(y9, y12), cross(y11, y10)), y16))\n",
    "y13 = np.round(y13 * (1/y13[2]))\n",
    "print('y13:', y13)\n",
    "\n",
    "# Toy\n",
    "# left\n",
    "x18 = cross(cross(cross(cross(x17, x20), cross(x21, x24)), x19), \n",
    "           cross(cross(cross(x24, x23), cross(x20, x19)), x17))\n",
    "x18 = np.round(x18 * (1/x18[2]))\n",
    "print('x18:', x18)\n",
    "\n",
    "x22 = cross(cross(cross(cross(x17, x20), cross(x21, x24)), x23), \n",
    "           cross(cross(cross(x24, x23), cross(x20, x19)), x21))\n",
    "x22 = np.round(x22 * (1/x22[2]))\n",
    "print('x22:', x22)\n",
    "\n",
    "# right\n",
    "y18 = cross(cross(cross(cross(y17, y20), cross(y21, y24)), y19), \n",
    "           cross(cross(cross(y24, y23), cross(y20, y19)), y17))\n",
    "y18 = np.round(y18 * (1/y18[2]))\n",
    "print('y18:', y18)\n",
    "\n",
    "y22 = cross(cross(cross(cross(y17, y20), cross(y21, y24)), y23), \n",
    "           cross(cross(cross(y24, y23), cross(y20, y19)), y21))\n",
    "y22 = np.round(y22 * (1/y22[2]))\n",
    "print('y22:', y22)\n",
    "\n",
    "# Naravno, ovde je samo gruba procena. Najbolje bi bilo praviti\n",
    "# preseke vise od dve paralelne prave, tacnije svih koje znamo (vidimo)."
   ]
  },
  {
   "cell_type": "code",
   "execution_count": 170,
   "metadata": {},
   "outputs": [],
   "source": [
    "xx = np.array([x1, x2, x3, x4, x12, x11, x15, x16])\n",
    "yy = np.array([y1, y2, y3, y4, y12, y11, y15, y16])\n",
    "\n",
    "# Ovo je osam tacaka na osnovu kojih odredjujemo F = FF. \n",
    "# Mogli smo uzeti i vise od 8 (teorijski i 7, ali onda je postupak nesto\n",
    "# drugaciji.)\n",
    "\n",
    "# Radi jednostavnosti nastavljamo bez normalizacije."
   ]
  },
  {
   "cell_type": "code",
   "execution_count": 171,
   "metadata": {},
   "outputs": [],
   "source": [
    "def jed(t2, t1):\n",
    "    niz = np.array([t1[0]*t2[0], t1[0]*t2[1], t1[0]*t2[2],\n",
    "                    t1[1]*t2[0], t1[1]*t2[1], t1[1]*t2[2],\n",
    "                    t1[2]*t2[0], t1[2]*t2[1], t1[2]*t2[2]])\n",
    "    #print(niz)\n",
    "    return niz"
   ]
  },
  {
   "cell_type": "code",
   "execution_count": 172,
   "metadata": {},
   "outputs": [
    {
     "name": "stdout",
     "output_type": "stream",
     "text": [
      "[[130144  29008    392  24900   5550     75    332     74      1]\n",
      " [281500  30402    563  36500   3942     73    500     54      1]\n",
      " [405822  93390    566 141249  32505    197    717    165      1]\n",
      " [198690  69560    370 106326  37224    198    537    188      1]\n",
      " [ 72774  95472    234 117558 154224    378    311    408      1]\n",
      " [530278 250390    686 309973 146365    401    773    365      1]\n",
      " [526080 421275    685 492288 394215    641    768    615      1]\n",
      " [ 76685 164395    245 192495 412665    615    313    671      1]]\n"
     ]
    }
   ],
   "source": [
    "M = np.zeros(9, dtype=int)\n",
    "for i in range(8):\n",
    "    M = np.vstack((M,jed(xx[i], yy[i])))\n",
    "    \n",
    "M = M[1:, :]   \n",
    "print(M)\n",
    "# Ovo je matrica formata 8x9 koja predstavlja 8 jednacina \n",
    "# dobijenih iz korespodencija."
   ]
  },
  {
   "cell_type": "code",
   "execution_count": 173,
   "metadata": {},
   "outputs": [],
   "source": [
    "def DLT(matrica):\n",
    "        u, s, v = np.linalg.svd(matrica, full_matrices=True)\n",
    "        \n",
    "        return v.T[:,-1]"
   ]
  },
  {
   "cell_type": "code",
   "execution_count": 174,
   "metadata": {},
   "outputs": [
    {
     "name": "stdout",
     "output_type": "stream",
     "text": [
      "[[-1.31694465e-06 -9.38092613e-05  1.00509196e-02]\n",
      " [ 9.47391537e-05  1.52423224e-06 -4.18533932e-02]\n",
      " [-1.13034431e-02  3.34930615e-02  9.98447646e-01]]\n"
     ]
    }
   ],
   "source": [
    "FF = DLT(M)\n",
    "FF = FF.reshape(3,3)\n",
    "print(FF)\n",
    "# Od V vektora SVD dekompozicije DLT algoritma uzmamo poslednju kolonu\n",
    "# koja nam predstavlja FF matricu i [f11, f121, .. f33]"
   ]
  },
  {
   "cell_type": "code",
   "execution_count": 178,
   "metadata": {},
   "outputs": [
    {
     "name": "stdout",
     "output_type": "stream",
     "text": [
      "Test prosao! Svi su blizu nule.\n",
      "det_f: -5.288681134203857e-09\n"
     ]
    }
   ],
   "source": [
    "def test(FF, xx, yy):\n",
    "    for i in range(8):\n",
    "        rez = yy[i].dot(FF.dot(xx[i]))\n",
    "        #print(rez)\n",
    "        if (not (abs(rez) < 9.0e-12)):\n",
    "            print(yy[i], xx[i], 'nije ni bliska nuli')\n",
    "            return;\n",
    "    print('Test prosao! Svi su blizu nule.')\n",
    "    \n",
    "test(FF, xx, yy)\n",
    "\n",
    "print('det_f:', np.linalg.det(FF))\n",
    "# proveravamo je li determinanta bliska nuli"
   ]
  },
  {
   "cell_type": "code",
   "execution_count": 180,
   "metadata": {
    "scrolled": true
   },
   "outputs": [
    {
     "name": "stdout",
     "output_type": "stream",
     "text": [
      "u: [[-0.01004154  0.29240859 -0.95624076]\n",
      " [ 0.04182835 -0.95532912 -0.29256906]\n",
      " [-0.99907435 -0.04293582 -0.002638  ]]\n",
      "\n",
      "DD: [9.99998845e-01 1.51998516e-03 3.47943347e-06]\n",
      "\n",
      "v: [[ 0.01129697 -0.03346109 -0.99937617]\n",
      " [ 0.25949622 -0.9651007   0.03524683]\n",
      " [ 0.96567805  0.25973253  0.00221969]]\n",
      "e1 [0.96567805 0.25973253 0.00221969]\n"
     ]
    }
   ],
   "source": [
    "u, DD, v = np.linalg.svd(FF, full_matrices=True)\n",
    "print('u:', u)\n",
    "print()\n",
    "print('DD:', DD)\n",
    "print()\n",
    "print('v:', v)\n",
    "\n",
    "e1 = v[-1]\n",
    "print('e1', e1)\n",
    "# Treca kolona matrice v je trazeni epipol. Ta treca kolona odgovara\n",
    "# najmanjoj sopstvenoj vrednosti matrice."
   ]
  },
  {
   "cell_type": "code",
   "execution_count": 181,
   "metadata": {},
   "outputs": [
    {
     "name": "stdout",
     "output_type": "stream",
     "text": [
      "[435.05165783 117.01318715   1.        ]\n"
     ]
    }
   ],
   "source": [
    "e1 = e1 * (1/e1[2])\n",
    "print(e1)\n",
    "\n",
    "# Afine koordinate epipola e1."
   ]
  },
  {
   "cell_type": "code",
   "execution_count": 183,
   "metadata": {},
   "outputs": [
    {
     "name": "stdout",
     "output_type": "stream",
     "text": [
      "[-0.95624076 -0.29256906 -0.002638  ]\n",
      "e2 [362.48752136 110.90578679   1.        ]\n"
     ]
    }
   ],
   "source": [
    "e2 = u[:,-1]\n",
    "print(e2)\n",
    "\n",
    "# Da bi nasli e2 treba da resimo F.te2=0. Medjutim, primetimo da je\n",
    "# Ft = UDV = (UDV.t).t = VDU.t. Ako je (U,D,V) SVD dekompozicija od F\n",
    "# onda je (V,D,U) SVD dekompozicija od F.t. Zato je e2 treca kolona od U\n",
    "\n",
    "e2 = e2 * (1/e2[2])\n",
    "print('e2', e2)\n",
    "\n",
    "# Afina koordinata epipola e2."
   ]
  },
  {
   "cell_type": "code",
   "execution_count": 185,
   "metadata": {},
   "outputs": [
    {
     "name": "stdout",
     "output_type": "stream",
     "text": [
      "DD1: [[0.99999884 0.         0.        ]\n",
      " [0.         0.00151999 0.        ]\n",
      " [0.         0.         0.        ]]\n",
      "FF1: [[ 1.89603625e-06 -9.29450854e-05  1.00509270e-02]\n",
      " [ 9.57221894e-05  1.78863335e-06 -4.18533909e-02]\n",
      " [-1.13034342e-02  3.34930639e-02  9.98447646e-01]]\n",
      "FF: [[-1.31694465e-06 -9.38092613e-05  1.00509196e-02]\n",
      " [ 9.47391537e-05  1.52423224e-06 -4.18533932e-02]\n",
      " [-1.13034431e-02  3.34930615e-02  9.98447646e-01]]\n"
     ]
    }
   ],
   "source": [
    "DD1 = np.diag(DD).dot(np.diag([1,1,0]))\n",
    "print('DD1:', DD1)\n",
    "\n",
    "FF1 = u.dot(DD1.dot(v))\n",
    "print('FF1:', FF1)\n",
    "print('FF:', FF)"
   ]
  },
  {
   "cell_type": "code",
   "execution_count": 186,
   "metadata": {},
   "outputs": [
    {
     "name": "stdout",
     "output_type": "stream",
     "text": [
      "|FF|: -5.288681134203857e-09\n",
      "|FF1|: 0.0\n"
     ]
    }
   ],
   "source": [
    "print('|FF|:', np.linalg.det(FF))\n",
    "print('|FF1|:', np.linalg.det(FF1)) # FIXME: mozda je problematicno sto je ista kao FF1 kod prof\n",
    "\n",
    "# Primetimo da imaju iste U i V u SVD dekompoziciji. Zato imaju \n",
    "# i iste epipolove."
   ]
  },
  {
   "cell_type": "code",
   "execution_count": 187,
   "metadata": {},
   "outputs": [
    {
     "name": "stdout",
     "output_type": "stream",
     "text": [
      "[[1. 0. 0. 0.]\n",
      " [0. 1. 0. 0.]\n",
      " [0. 0. 1. 0.]]\n"
     ]
    }
   ],
   "source": [
    "# Triangulacija\n",
    "T1 = np.identity(3)\n",
    "T1 = np.vstack((T1, np.zeros(3)))\n",
    "T1 = T1.T\n",
    "print(T1)"
   ]
  },
  {
   "cell_type": "code",
   "execution_count": 188,
   "metadata": {},
   "outputs": [],
   "source": [
    "def vec(niz):\n",
    "    p1, p2, p3 = niz\n",
    "    m = np.array([[0, -p3, p2],\n",
    "                  [p3, 0, -p1],\n",
    "                  [-p2, p1, 0]])\n",
    "    return m\n",
    "\n",
    "#Matrica vektorskog mnozenja, kao kod rodrigeza"
   ]
  },
  {
   "cell_type": "code",
   "execution_count": 190,
   "metadata": {},
   "outputs": [
    {
     "data": {
      "text/plain": [
       "array([[   0.        ,   -1.        ,  110.90578679],\n",
       "       [   1.        ,    0.        , -362.48752136],\n",
       "       [-110.90578679,  362.48752136,    0.        ]])"
      ]
     },
     "execution_count": 190,
     "metadata": {},
     "output_type": "execute_result"
    }
   ],
   "source": [
    "E2 = vec(e2)\n",
    "E2"
   ]
  },
  {
   "cell_type": "code",
   "execution_count": 191,
   "metadata": {},
   "outputs": [
    {
     "name": "stdout",
     "output_type": "stream",
     "text": [
      "E2.FF1: [[-1.25371199e+00  3.71457281e+00  1.10775475e+02]\n",
      " [ 4.09735575e+00 -1.21409106e+01 -3.61914761e+02]\n",
      " [ 3.44878178e-02  1.09565051e-02 -1.62860379e+01]]\n",
      "e2: [362.48752136 110.90578679   1.        ]\n",
      "T2: [[-1.25371199e+00  3.71457281e+00  1.10775475e+02  3.62487521e+02]\n",
      " [ 4.09735575e+00 -1.21409106e+01 -3.61914761e+02  1.10905787e+02]\n",
      " [ 3.44878178e-02  1.09565051e-02 -1.62860379e+01  1.00000000e+00]]\n"
     ]
    }
   ],
   "source": [
    "T2 = E2.dot(FF1)\n",
    "print('E2.FF1:', T2)\n",
    "print('e2:', e2)\n",
    "T2 = np.hstack((T2, e2.reshape(3,1)))\n",
    "print('T2:', T2)\n",
    "\n",
    "# Za svaku tacku dobijamo sistem od 4 jednacine, mogli bi uzeti\n",
    "# i samo 3 jednacine."
   ]
  },
  {
   "cell_type": "code",
   "execution_count": 192,
   "metadata": {},
   "outputs": [],
   "source": [
    "def jednacine(x, y, T1, T2):\n",
    "    return np.array([x[1]*T1[2] - x[2]*T1[1],\n",
    "                    -x[0]*T1[2] + x[2]*T1[0],\n",
    "                     y[1]*T2[2] - y[2]*T2[1],\n",
    "                    -y[0]*T2[2] + y[2]*T2[0]])"
   ]
  },
  {
   "cell_type": "code",
   "execution_count": 193,
   "metadata": {},
   "outputs": [],
   "source": [
    "def uAfine(xx):\n",
    "    xx = xx * 1/xx[3]\n",
    "    return xx[:-1]"
   ]
  },
  {
   "cell_type": "code",
   "execution_count": 194,
   "metadata": {},
   "outputs": [
    {
     "name": "stdout",
     "output_type": "stream",
     "text": [
      "[[ 0.00000000e+00 -1.00000000e+00  7.40000000e+01  0.00000000e+00]\n",
      " [ 1.00000000e+00  0.00000000e+00 -3.32000000e+02  0.00000000e+00]\n",
      " [-1.51076941e+00  1.29626485e+01 -8.59538080e+02 -3.59057868e+01]\n",
      " [-1.47729366e+01 -5.80377189e-01  6.49490233e+03 -2.95124786e+01]]\n",
      "u: [[ 0.01127972 -0.01379779 -0.82389209  0.56646643]\n",
      " [-0.05060639  0.02686675 -0.5664014  -0.8221354 ]\n",
      " [-0.13099729  0.99070696  0.00639144  0.03603573]\n",
      " [ 0.99002599  0.13261793 -0.01871971 -0.04371027]]\n",
      "d: [6.56041750e+03 4.16440638e+01 1.01785229e+00 2.42444288e-01]\n",
      "v:\n",
      " [[-2.20691609e-03 -8.23411299e-02 -2.94259069e-01 -9.52169453e-01]\n",
      " [-3.48139445e-04  3.06862836e-01  9.01512466e-01 -3.05139891e-01]\n",
      " [ 9.99990523e-01 -3.61801682e-03  8.50162344e-04 -2.26761271e-03]\n",
      " [-3.73673781e-03 -9.48178279e-01  3.17310813e-01 -1.60572963e-02]]\n"
     ]
    }
   ],
   "source": [
    "# Iz tih jednacina, koje zavise od leve i desne projekcije tacke,\n",
    "# se rekonstruise odgovarajuca tacka prostora. Naravno, koristimo\n",
    "# u funkciji 'jednacine' matrice kamera T1 i T2. Evo kako izgleda na \n",
    "# primeru prve tacke.\n",
    "\n",
    "t = jednacine(x1, y1, T1, T2)\n",
    "print(t)\n",
    "\n",
    "u, d, v = np.linalg.svd(t)\n",
    "print('u:', u)\n",
    "print('d:', d)\n",
    "print('v:\\n', v.T)"
   ]
  },
  {
   "cell_type": "code",
   "execution_count": 196,
   "metadata": {},
   "outputs": [
    {
     "name": "stdout",
     "output_type": "stream",
     "text": [
      "[-0.4091128  -0.91222007 -0.0013658   0.02189506]\n",
      "[-18.68516309 -41.66327915  -0.06237953]\n"
     ]
    },
    {
     "data": {
      "text/plain": [
       "array([[ 0.00000000e+00,  0.00000000e+00,  0.00000000e+00],\n",
       "       [ 5.92982429e+01,  1.90031925e+01,  1.41220083e-01],\n",
       "       [-6.50078990e+01, -1.30655326e+01, -1.26658982e-01],\n",
       "       [-2.49593835e+01, -8.47004457e+00, -3.60152724e-02],\n",
       "       [-3.05713661e+01, -1.41068472e+01, -6.92788966e-02],\n",
       "       [-2.71315309e+01, -1.70143266e+01, -5.82496513e-02],\n",
       "       [-4.00754220e+01, -1.60873255e+01, -7.18730236e-02],\n",
       "       [-2.55169917e+01, -1.81407231e+01, -3.97580312e-02],\n",
       "       [-2.50653974e+01, -2.50325613e+01, -5.66920537e-02],\n",
       "       [-2.01249174e+01, -2.29669444e+01, -6.15462682e-02],\n",
       "       [-3.26540292e+01, -1.37480645e+01, -4.68532227e-02],\n",
       "       [-2.76335472e+01, -1.52525506e+01, -3.74709862e-02],\n",
       "       [-2.33979165e+01, -3.16977426e+01, -7.90677910e-02],\n",
       "       [-1.90379111e+01, -3.35847079e+01, -5.47592165e-02],\n",
       "       [-2.76655438e+01, -1.95425135e+01, -3.78146347e-02],\n",
       "       [-2.52770406e+01, -2.21076750e+01, -3.46179572e-02],\n",
       "       [-1.86851631e+01, -4.16632791e+01, -6.23795251e-02],\n",
       "       [-1.09909106e+01, -5.41788996e+01, -8.26173321e-02],\n",
       "       [-2.68283530e+01, -2.19636095e+01, -4.88320599e-02],\n",
       "       [-2.61229014e+01, -1.88644883e+01, -2.95566292e-02],\n",
       "       [-2.07280465e+01, -3.31484388e+01, -3.97012280e-02],\n",
       "       [-1.02464210e+01, -5.99844577e+01, -7.07301099e-02],\n",
       "       [-2.33000889e+01, -2.70404431e+01, -4.18913106e-02],\n",
       "       [-2.46662837e+01, -2.28752171e+01, -2.80662205e-02],\n",
       "       [-1.92612476e+01, -3.81572343e+01, -3.70610432e-02]])"
      ]
     },
     "execution_count": 196,
     "metadata": {},
     "output_type": "execute_result"
    }
   ],
   "source": [
    "p = v[3]\n",
    "print(p)\n",
    "s1 = uAfine(p)\n",
    "print(s1)\n",
    "\n",
    "slika1 = np.array([x1,x2,x3,x4,x5,x6,x7,x8,x9,x10,x11,x12,x13,\n",
    "                   x14,x15,x16,x17,x18,x19,x20,x21,x22,x23,x24])\n",
    "slika2 = np.array([y1,y2,y3,y4,y5,y6,y7,y8,y9,y10,y11,y12,y13,\n",
    "                   y14,y15,y16,y17,y18,y19,y20,y21,y22,y23,y24])\n",
    "\n",
    "rekonstruisane = np.array([0, 0, 0], dtype = int)\n",
    "\n",
    "for i in range(24):\n",
    "    u, d, v = np.linalg.svd(jednacine(slika1[i], slika2[i], T1, T2))\n",
    "    rekonstruisane = np.vstack((rekonstruisane, uAfine(v[3])))\n",
    "    \n",
    "rekonstruisane"
   ]
  },
  {
   "cell_type": "code",
   "execution_count": 204,
   "metadata": {},
   "outputs": [
    {
     "name": "stdout",
     "output_type": "stream",
     "text": [
      "[420. 135.   1.]\n",
      "[513. 103.   1.]\n",
      "[693. 235.   1.]\n",
      "[441. 204.   1.]\n",
      "[466. 292.   1.]\n",
      "[558. 224.   1.]\n",
      "[642. 456.   1.]\n",
      "[442. 442.   1.]\n",
      "[327. 373.   1.]\n",
      "[697. 293.   1.]\n",
      "[737. 407.   1.]\n",
      "[296. 401.   1.]\n",
      "[348. 613.   1.]\n",
      "[732. 517.   1.]\n",
      "[730. 639.   1.]\n",
      "[300. 668.   1.]\n",
      "[133. 656.   1.]\n",
      "[549. 450.   1.]\n",
      "[884. 638.   1.]\n",
      "[522. 835.   1.]\n",
      "[145. 848.   1.]\n",
      "[556. 645.   1.]\n",
      "[879. 815.   1.]\n",
      "[5.20e+02 1.03e+03 1.00e+00]\n"
     ]
    }
   ],
   "source": [
    "rekonstrusane = rekonstruisane[1:,:]\n",
    "for x in rekonstrusane:\n",
    "    print('x', np.round(x*(1/x[2])))"
   ]
  },
  {
   "cell_type": "code",
   "execution_count": null,
   "metadata": {},
   "outputs": [],
   "source": []
  }
 ],
 "metadata": {
  "kernelspec": {
   "display_name": "Python 3",
   "language": "python",
   "name": "python3"
  },
  "language_info": {
   "codemirror_mode": {
    "name": "ipython",
    "version": 3
   },
   "file_extension": ".py",
   "mimetype": "text/x-python",
   "name": "python",
   "nbconvert_exporter": "python",
   "pygments_lexer": "ipython3",
   "version": "3.7.4"
  }
 },
 "nbformat": 4,
 "nbformat_minor": 2
}
