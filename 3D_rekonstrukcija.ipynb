{
 "cells": [
  {
   "cell_type": "code",
   "execution_count": 167,
   "metadata": {},
   "outputs": [],
   "source": [
    "import numpy as np"
   ]
  },
  {
   "cell_type": "code",
   "execution_count": 168,
   "metadata": {},
   "outputs": [],
   "source": [
    "# Ovde su sve tacke cije su koordinate procitane sa slike.\n",
    "\n",
    "# left\n",
    "x1 = np.array([332, 74, 1])\n",
    "x2 = np.array([500, 54, 1])\n",
    "x3 = np.array([717, 165, 1])\n",
    "x4 = np.array([537, 188, 1])\n",
    "x5 = np.array([328, 293, 1])\n",
    "x6 = np.array([])\n",
    "x7 = np.array([713, 402, 1])\n",
    "x8 = np.array([537, 429, 1])\n",
    "x9 = np.array([259, 339, 1])\n",
    "x10 = np.array([])\n",
    "x11 = np.array([773, 365, 1])\n",
    "x12 = np.array([311, 408, 1])\n",
    "x13 = np.array([266, 591, 1])\n",
    "x14 = np.array([])\n",
    "x15 = np.array([768, 615, 1])\n",
    "x16 = np.array([313, 671, 1])\n",
    "x17 = np.array([91, 629, 1])\n",
    "x18 = np.array([])\n",
    "x19 = np.array([925, 599, 1])\n",
    "x20 = np.array([699, 782, 1])\n",
    "x21 = np.array([93, 824, 1])\n",
    "x22 = np.array([])\n",
    "x23 = np.array([918, 788, 1])\n",
    "x24 = np.array([695, 987, 1])\n",
    "\n",
    "# right\n",
    "y1 = np.array([392, 75, 1])\n",
    "y2 = np.array([563, 73, 1])\n",
    "y3 = np.array([566, 197, 1])\n",
    "y4 = np.array([370, 198, 1])\n",
    "y5 = np.array([])\n",
    "y6 = np.array([])\n",
    "y7 = np.array([567, 424, 1])\n",
    "y8 = np.array([375, 424, 1])\n",
    "y9 = np.array([280, 312, 1])\n",
    "y10 = np.array([714, 331, 1])\n",
    "y11 = np.array([686, 401, 1])\n",
    "y12 = np.array([234, 378, 1])\n",
    "y13 = np.array([])\n",
    "y14 = np.array([716, 555, 1])\n",
    "y15 = np.array([685, 641, 1])\n",
    "y16 = np.array([245, 615, 1])\n",
    "y17 = np.array([121, 549, 1])\n",
    "y18 = np.array([])\n",
    "y19 = np.array([861, 652, 1])\n",
    "y20 = np.array([458, 779, 1])\n",
    "y21 = np.array([127, 721, 1])\n",
    "y22 = np.array([])\n",
    "y23 = np.array([858, 837, 1])\n",
    "y24 = np.array([461, 976, 1])"
   ]
  },
  {
   "cell_type": "code",
   "execution_count": 169,
   "metadata": {},
   "outputs": [
    {
     "name": "stdout",
     "output_type": "stream",
     "text": [
      "x6: [501. 275.   1.]\n",
      "y6: [564. 274.   1.]\n",
      "y5: [396. 275.   1.]\n",
      "x10: [691. 302.   1.]\n",
      "x14: [694. 542.   1.]\n",
      "y13: [295. 531.   1.]\n",
      "x18: [359. 469.   1.]\n",
      "x22: [357. 649.   1.]\n",
      "y18: [492. 453.   1.]\n",
      "y22: [493. 616.   1.]\n"
     ]
    }
   ],
   "source": [
    "# Odredjivanje nedostajucih tacaka.\n",
    "\n",
    "def cross(x, y):\n",
    "    z = np.cross(x, y)\n",
    "    return z * (1/z[2])\n",
    "\n",
    "# teeakane\n",
    "# left\n",
    "x6 = cross(cross(cross(cross(x4, x1), cross(x3, x2)), x7), \n",
    "           cross(cross(cross(x8, x4), cross(x7, x3)), x2))\n",
    "x6 = np.round(x6 * (1/x6[2]))\n",
    "print('x6:', x6)\n",
    "# right\n",
    "y6 = cross(cross(cross(cross(y4, y1), cross(y3, y2)), y7), \n",
    "           cross(cross(cross(y8, y4), cross(y7, y3)), y2))\n",
    "y6 = np.round(y6 * (1/y6[2]))\n",
    "print('y6:', y6)\n",
    "\n",
    "y5 = cross(cross(cross(cross(y4, y1), cross(y3, y2)), y8), \n",
    "           cross(cross(cross(y8, y4), cross(y7, y3)), y1))\n",
    "y5 = np.round(y5 * (1/y5[2]))\n",
    "print('y5:', y5)\n",
    "\n",
    "#mobile\n",
    "# left\n",
    "x10 = cross(cross(cross(cross(x12, x11), cross(x16, x15)), x9), \n",
    "           cross(cross(cross(x9, x12), cross(x13, x16)), x11))\n",
    "x10 = np.round(x10 * (1/x10[2]))\n",
    "print('x10:', x10)\n",
    "\n",
    "x14 = cross(cross(cross(cross(x12, x11), cross(x16, x15)), x13), \n",
    "           cross(cross(cross(x9, x12), cross(x13, x16)), x15))\n",
    "x14 = np.round(x14 * (1/x14[2]))\n",
    "print('x14:', x14)\n",
    "\n",
    "# right\n",
    "y13 = cross(cross(cross(cross(y12, y11), cross(y16, y15)), y14), \n",
    "           cross(cross(cross(y9, y12), cross(y11, y10)), y16))\n",
    "y13 = np.round(y13 * (1/y13[2]))\n",
    "print('y13:', y13)\n",
    "\n",
    "# Toy\n",
    "# left\n",
    "x18 = cross(cross(cross(cross(x17, x20), cross(x21, x24)), x19), \n",
    "           cross(cross(cross(x24, x23), cross(x20, x19)), x17))\n",
    "x18 = np.round(x18 * (1/x18[2]))\n",
    "print('x18:', x18)\n",
    "\n",
    "x22 = cross(cross(cross(cross(x17, x20), cross(x21, x24)), x23), \n",
    "           cross(cross(cross(x24, x23), cross(x20, x19)), x21))\n",
    "x22 = np.round(x22 * (1/x22[2]))\n",
    "print('x22:', x22)\n",
    "\n",
    "# right\n",
    "y18 = cross(cross(cross(cross(y17, y20), cross(y21, y24)), y19), \n",
    "           cross(cross(cross(y24, y23), cross(y20, y19)), y17))\n",
    "y18 = np.round(y18 * (1/y18[2]))\n",
    "print('y18:', y18)\n",
    "\n",
    "y22 = cross(cross(cross(cross(y17, y20), cross(y21, y24)), y23), \n",
    "           cross(cross(cross(y24, y23), cross(y20, y19)), y21))\n",
    "y22 = np.round(y22 * (1/y22[2]))\n",
    "print('y22:', y22)\n",
    "\n",
    "# Naravno, ovde je samo gruba procena. Najbolje bi bilo praviti\n",
    "# preseke vise od dve paralelne prave, tacnije svih koje znamo (vidimo)."
   ]
  },
  {
   "cell_type": "code",
   "execution_count": 205,
   "metadata": {},
   "outputs": [],
   "source": [
    "xx = np.array([x17, x20, x24, x21, x12, x11, x15, x16])\n",
    "yy = np.array([y17, y20, y24, y21, y12, y11, y15, y16])\n",
    "\n",
    "# Ovo je osam tacaka na osnovu kojih odredjujemo F = FF. \n",
    "# Mogli smo uzeti i vise od 8 (teorijski i 7, ali onda je postupak nesto\n",
    "# drugaciji.)\n",
    "\n",
    "# Radi jednostavnosti nastavljamo bez normalizacije."
   ]
  },
  {
   "cell_type": "code",
   "execution_count": 206,
   "metadata": {},
   "outputs": [],
   "source": [
    "def jed(t2, t1):\n",
    "    niz = np.array([t1[0]*t2[0], t1[0]*t2[1], t1[0]*t2[2],\n",
    "                    t1[1]*t2[0], t1[1]*t2[1], t1[1]*t2[2],\n",
    "                    t1[2]*t2[0], t1[2]*t2[1], t1[2]*t2[2]])\n",
    "    #print(niz)\n",
    "    return niz"
   ]
  },
  {
   "cell_type": "code",
   "execution_count": 207,
   "metadata": {},
   "outputs": [
    {
     "name": "stdout",
     "output_type": "stream",
     "text": [
      "[[ 11011  76109    121  49959 345321    549     91    629      1]\n",
      " [320142 358156    458 544521 609178    779    699    782      1]\n",
      " [320395 455007    461 678320 963312    976    695    987      1]\n",
      " [ 11811 104648    127  67053 594104    721     93    824      1]\n",
      " [ 72774  95472    234 117558 154224    378    311    408      1]\n",
      " [530278 250390    686 309973 146365    401    773    365      1]\n",
      " [526080 421275    685 492288 394215    641    768    615      1]\n",
      " [ 76685 164395    245 192495 412665    615    313    671      1]]\n"
     ]
    }
   ],
   "source": [
    "M = np.zeros(9, dtype=int)\n",
    "for i in range(8):\n",
    "    M = np.vstack((M,jed(xx[i], yy[i])))\n",
    "    \n",
    "M = M[1:, :]   \n",
    "print(M)\n",
    "# Ovo je matrica formata 8x9 koja predstavlja 8 jednacina \n",
    "# dobijenih iz korespodencija."
   ]
  },
  {
   "cell_type": "code",
   "execution_count": 208,
   "metadata": {},
   "outputs": [],
   "source": [
    "def DLT(matrica):\n",
    "        u, s, v = np.linalg.svd(matrica, full_matrices=True)\n",
    "        \n",
    "        return v.T[:,-1]"
   ]
  },
  {
   "cell_type": "code",
   "execution_count": 209,
   "metadata": {},
   "outputs": [
    {
     "name": "stdout",
     "output_type": "stream",
     "text": [
      "[[ 1.90962479e-05  2.40808449e-05  9.24161809e-03]\n",
      " [ 8.13301406e-05  1.56528885e-05 -7.58368863e-01]\n",
      " [ 2.74697222e-02  6.37651821e-01  1.32048563e-01]]\n"
     ]
    }
   ],
   "source": [
    "FF = DLT(M)\n",
    "FF = FF.reshape(3,3)\n",
    "print(FF)\n",
    "# Od V vektora SVD dekompozicije DLT algoritma uzmamo poslednju kolonu\n",
    "# koja nam predstavlja FF matricu i [f11, f121, .. f33]"
   ]
  },
  {
   "cell_type": "code",
   "execution_count": 210,
   "metadata": {},
   "outputs": [
    {
     "name": "stdout",
     "output_type": "stream",
     "text": [
      "Test prosao! Svi su blizu nule.\n",
      "det_f: 9.207897352452107e-06\n"
     ]
    }
   ],
   "source": [
    "def test(FF, xx, yy):\n",
    "    for i in range(8):\n",
    "        rez = yy[i].dot(FF.dot(xx[i]))\n",
    "        #print(rez)\n",
    "        if (not (abs(rez) < 9.0e-12)):\n",
    "            print(yy[i], xx[i], 'nije ni bliska nuli')\n",
    "            return;\n",
    "    print('Test prosao! Svi su blizu nule.')\n",
    "    \n",
    "test(FF, xx, yy)\n",
    "\n",
    "print('det_f:', np.linalg.det(FF))\n",
    "# proveravamo je li determinanta bliska nuli"
   ]
  },
  {
   "cell_type": "code",
   "execution_count": 211,
   "metadata": {
    "scrolled": true
   },
   "outputs": [
    {
     "name": "stdout",
     "output_type": "stream",
     "text": [
      "u: [[-1.09121376e-02  5.40747042e-03 -9.99925840e-01]\n",
      " [ 8.94512061e-01 -4.46877901e-01 -1.21784209e-02]\n",
      " [-4.46910615e-01 -8.94578616e-01  3.93456226e-05]]\n",
      "\n",
      "DD: [7.90717916e-01 6.12180674e-01 1.90221357e-05]\n",
      "\n",
      "v: [[-1.54340350e-02 -3.60380893e-01 -9.32677545e-01]\n",
      " [-4.02006605e-02 -9.31810775e-01  3.60711222e-01]\n",
      " [-9.99072419e-01  4.30614830e-02 -1.05949767e-04]]\n",
      "e1 [-9.99072419e-01  4.30614830e-02 -1.05949767e-04]\n"
     ]
    }
   ],
   "source": [
    "u, DD, v = np.linalg.svd(FF, full_matrices=True)\n",
    "print('u:', u)\n",
    "print()\n",
    "print('DD:', DD)\n",
    "print()\n",
    "print('v:', v)\n",
    "\n",
    "e1 = v[-1]\n",
    "print('e1', e1)\n",
    "# Treca kolona matrice v je trazeni epipol. Ta treca kolona odgovara\n",
    "# najmanjoj sopstvenoj vrednosti matrice."
   ]
  },
  {
   "cell_type": "code",
   "execution_count": 212,
   "metadata": {},
   "outputs": [
    {
     "name": "stdout",
     "output_type": "stream",
     "text": [
      "[ 9.42968021e+03 -4.06433014e+02  1.00000000e+00]\n"
     ]
    }
   ],
   "source": [
    "e1 = e1 * (1/e1[2])\n",
    "print(e1)\n",
    "\n",
    "# Afine koordinate epipola e1."
   ]
  },
  {
   "cell_type": "code",
   "execution_count": 213,
   "metadata": {},
   "outputs": [
    {
     "name": "stdout",
     "output_type": "stream",
     "text": [
      "[-9.99925840e-01 -1.21784209e-02  3.93456226e-05]\n",
      "e2 [-2.54139031e+04 -3.09524162e+02  1.00000000e+00]\n"
     ]
    }
   ],
   "source": [
    "e2 = u[:,-1]\n",
    "print(e2)\n",
    "\n",
    "# Da bi nasli e2 treba da resimo F.te2=0. Medjutim, primetimo da je\n",
    "# Ft = UDV = (UDV.t).t = VDU.t. Ako je (U,D,V) SVD dekompozicija od F\n",
    "# onda je (V,D,U) SVD dekompozicija od F.t. Zato je e2 treca kolona od U\n",
    "\n",
    "e2 = e2 * (1/e2[2])\n",
    "print('e2', e2)\n",
    "\n",
    "# Afina koordinata epipola e2."
   ]
  },
  {
   "cell_type": "code",
   "execution_count": 214,
   "metadata": {},
   "outputs": [
    {
     "name": "stdout",
     "output_type": "stream",
     "text": [
      "DD1: [[0.79071792 0.         0.        ]\n",
      " [0.         0.61218067 0.        ]\n",
      " [0.         0.         0.        ]]\n",
      "FF1: [[ 9.31662102e-08  2.48999055e-05  9.24161607e-03]\n",
      " [ 8.10986959e-05  1.56628642e-05 -7.58368863e-01]\n",
      " [ 2.74697229e-02  6.37651821e-01  1.32048563e-01]]\n",
      "FF: [[ 1.90962479e-05  2.40808449e-05  9.24161809e-03]\n",
      " [ 8.13301406e-05  1.56528885e-05 -7.58368863e-01]\n",
      " [ 2.74697222e-02  6.37651821e-01  1.32048563e-01]]\n"
     ]
    }
   ],
   "source": [
    "DD1 = np.diag(DD).dot(np.diag([1,1,0]))\n",
    "print('DD1:', DD1)\n",
    "\n",
    "FF1 = u.dot(DD1.dot(v))\n",
    "print('FF1:', FF1)\n",
    "print('FF:', FF)"
   ]
  },
  {
   "cell_type": "code",
   "execution_count": 215,
   "metadata": {},
   "outputs": [
    {
     "name": "stdout",
     "output_type": "stream",
     "text": [
      "|FF|: 9.207897352452107e-06\n",
      "|FF1|: -3.7363584715077664e-21\n"
     ]
    }
   ],
   "source": [
    "print('|FF|:', np.linalg.det(FF))\n",
    "print('|FF1|:', np.linalg.det(FF1)) # FIXME: mozda je problematicno sto je ista kao FF1 kod prof\n",
    "\n",
    "# Primetimo da imaju iste U i V u SVD dekompoziciji. Zato imaju \n",
    "# i iste epipolove."
   ]
  },
  {
   "cell_type": "code",
   "execution_count": 216,
   "metadata": {},
   "outputs": [
    {
     "name": "stdout",
     "output_type": "stream",
     "text": [
      "[[1. 0. 0. 0.]\n",
      " [0. 1. 0. 0.]\n",
      " [0. 0. 1. 0.]]\n"
     ]
    }
   ],
   "source": [
    "# Triangulacija\n",
    "T1 = np.identity(3)\n",
    "T1 = np.vstack((T1, np.zeros(3)))\n",
    "T1 = T1.T\n",
    "print(T1)"
   ]
  },
  {
   "cell_type": "code",
   "execution_count": 217,
   "metadata": {},
   "outputs": [],
   "source": [
    "def vec(niz):\n",
    "    p1, p2, p3 = niz\n",
    "    m = np.array([[0, -p3, p2],\n",
    "                  [p3, 0, -p1],\n",
    "                  [-p2, p1, 0]])\n",
    "    return m\n",
    "\n",
    "#Matrica vektorskog mnozenja, kao kod rodrigeza"
   ]
  },
  {
   "cell_type": "code",
   "execution_count": 218,
   "metadata": {},
   "outputs": [
    {
     "data": {
      "text/plain": [
       "array([[ 0.00000000e+00, -1.00000000e+00, -3.09524162e+02],\n",
       "       [ 1.00000000e+00,  0.00000000e+00,  2.54139031e+04],\n",
       "       [ 3.09524162e+02, -2.54139031e+04,  0.00000000e+00]])"
      ]
     },
     "execution_count": 218,
     "metadata": {},
     "output_type": "execute_result"
    }
   ],
   "source": [
    "E2 = vec(e2)\n",
    "E2"
   ]
  },
  {
   "cell_type": "code",
   "execution_count": 219,
   "metadata": {},
   "outputs": [
    {
     "name": "stdout",
     "output_type": "stream",
     "text": [
      "E2.FF1: [[-8.50262407e+00 -1.97368661e+02 -4.01138518e+01]\n",
      " [ 6.98112877e+02  1.62052216e+04  3.35587861e+03]\n",
      " [-2.06100556e+00 -3.90347389e-01  1.92759733e+04]]\n",
      "e2: [-2.54139031e+04 -3.09524162e+02  1.00000000e+00]\n",
      "T2: [[-8.50262407e+00 -1.97368661e+02 -4.01138518e+01 -2.54139031e+04]\n",
      " [ 6.98112877e+02  1.62052216e+04  3.35587861e+03 -3.09524162e+02]\n",
      " [-2.06100556e+00 -3.90347389e-01  1.92759733e+04  1.00000000e+00]]\n"
     ]
    }
   ],
   "source": [
    "T2 = E2.dot(FF1)\n",
    "print('E2.FF1:', T2)\n",
    "print('e2:', e2)\n",
    "T2 = np.hstack((T2, e2.reshape(3,1)))\n",
    "print('T2:', T2)\n",
    "\n",
    "# Za svaku tacku dobijamo sistem od 4 jednacine, mogli bi uzeti\n",
    "# i samo 3 jednacine."
   ]
  },
  {
   "cell_type": "code",
   "execution_count": 220,
   "metadata": {},
   "outputs": [],
   "source": [
    "def jednacine(x, y, T1, T2):\n",
    "    return np.array([x[1]*T1[2] - x[2]*T1[1],\n",
    "                    -x[0]*T1[2] + x[2]*T1[0],\n",
    "                     y[1]*T2[2] - y[2]*T2[1],\n",
    "                    -y[0]*T2[2] + y[2]*T2[0]])"
   ]
  },
  {
   "cell_type": "code",
   "execution_count": 221,
   "metadata": {},
   "outputs": [],
   "source": [
    "def uAfine(xx):\n",
    "    xx = xx * 1/xx[3]\n",
    "    return xx[:-1]"
   ]
  },
  {
   "cell_type": "code",
   "execution_count": 222,
   "metadata": {},
   "outputs": [
    {
     "name": "stdout",
     "output_type": "stream",
     "text": [
      "[[ 0.00000000e+00 -1.00000000e+00  7.40000000e+01  0.00000000e+00]\n",
      " [ 1.00000000e+00  0.00000000e+00 -3.32000000e+02  0.00000000e+00]\n",
      " [-8.52688294e+02 -1.62344977e+04  1.44234212e+06  3.84524162e+02]\n",
      " [ 7.99411556e+02 -4.43524845e+01 -7.55622164e+06 -2.58059031e+04]]\n",
      "u: [[ 9.61951822e-06  6.03024174e-05 -3.64802809e-02 -9.99334371e-01]\n",
      " [-4.31576270e-05 -1.26851979e-05 -9.99334372e-01  3.64802798e-02]\n",
      " [ 1.87495099e-01  9.82265536e-01 -1.83117641e-05  6.17457170e-05]\n",
      " [-9.82265537e-01  1.87495100e-01  4.00549646e-05  3.96534109e-07]]\n",
      "d: [7.69269085e+06 1.65810265e+04 1.44879498e+00 2.10569094e-02]\n",
      "v:\n",
      " [[-1.22858095e-04 -4.14739454e-02 -6.56890558e-01 -7.52844401e-01]\n",
      " [-3.90022541e-04 -9.62238586e-01  2.29146318e-01 -1.46930991e-01]\n",
      " [ 9.99994457e-01  5.08613426e-04  2.38234959e-03 -2.26991736e-03]\n",
      " [ 3.30448034e-03 -2.69028913e-01 -7.18318233e-01  6.41585099e-01]]\n"
     ]
    }
   ],
   "source": [
    "# Iz tih jednacina, koje zavise od leve i desne projekcije tacke,\n",
    "# se rekonstruise odgovarajuca tacka prostora. Naravno, koristimo\n",
    "# u funkciji 'jednacine' matrice kamera T1 i T2. Evo kako izgleda na \n",
    "# primeru prve tacke.\n",
    "\n",
    "t = jednacine(x1, y1, T1, T2)\n",
    "print(t)\n",
    "\n",
    "u, d, v = np.linalg.svd(t)\n",
    "print('u:', u)\n",
    "print('d:', d)\n",
    "print('v:\\n', v.T)"
   ]
  },
  {
   "cell_type": "code",
   "execution_count": 223,
   "metadata": {},
   "outputs": [
    {
     "name": "stdout",
     "output_type": "stream",
     "text": [
      "[-0.7528444  -0.14693099 -0.00226992  0.6415851 ]\n",
      "[-1.17341316 -0.22901247 -0.00353798]\n"
     ]
    },
    {
     "data": {
      "text/plain": [
       "array([[ 0.00000000e+00,  0.00000000e+00,  0.00000000e+00],\n",
       "       [-1.17341316e+00, -2.29012474e-01, -3.53798328e-03],\n",
       "       [-1.26366083e+00, -1.28991606e-01, -2.52803975e-03],\n",
       "       [-1.85023219e+00, -4.44276262e-01, -2.57858573e-03],\n",
       "       [-2.05557210e+00, -7.25471413e-01, -3.82711241e-03],\n",
       "       [-1.14596379e+00, -1.01089968e+00, -3.49679697e-03],\n",
       "       [-1.26430017e+00, -6.83424568e-01, -2.52512356e-03],\n",
       "       [-1.83863462e+00, -1.06348026e+00, -2.57462059e-03],\n",
       "       [-2.02719968e+00, -1.64213405e+00, -3.77043640e-03],\n",
       "       [-1.26040518e+00, -1.64993534e+00, -4.86635342e-03],\n",
       "       [-1.42080731e+00, -6.42312013e-01, -2.05323647e-03],\n",
       "       [-1.66953234e+00, -8.18905316e-01, -2.15556706e-03],\n",
       "       [-1.81118141e+00, -2.38649206e+00, -5.82025759e-03],\n",
       "       [-1.22287097e+00, -2.68997411e+00, -4.61110838e-03],\n",
       "       [-1.42499390e+00, -1.12351253e+00, -2.05141498e-03],\n",
       "       [-1.66330473e+00, -1.35999584e+00, -2.16056080e-03],\n",
       "       [-1.73386399e+00, -3.72548136e+00, -5.53516411e-03],\n",
       "       [-9.66472147e-01, -6.68092485e+00, -1.06175207e-02],\n",
       "       [-1.02273644e+00, -1.36439323e+00, -2.83925933e-03],\n",
       "       [-1.63771155e+00, -1.08687836e+00, -1.76649543e-03],\n",
       "       [-2.21254356e+00, -2.49858430e+00, -3.15969364e-03],\n",
       "       [-9.33124308e-01, -8.26730573e+00, -1.00304165e-02],\n",
       "       [-1.01476989e+00, -1.86703301e+00, -2.83277801e-03],\n",
       "       [-1.63214785e+00, -1.42235140e+00, -1.77399940e-03],\n",
       "       [-2.18474130e+00, -3.12336038e+00, -3.13716738e-03]])"
      ]
     },
     "execution_count": 223,
     "metadata": {},
     "output_type": "execute_result"
    }
   ],
   "source": [
    "p = v[3]\n",
    "print(p)\n",
    "s1 = uAfine(p)\n",
    "print(s1)\n",
    "\n",
    "slika1 = np.array([x1,x2,x3,x4,x5,x6,x7,x8,x9,x10,x11,x12,x13,\n",
    "                   x14,x15,x16,x17,x18,x19,x20,x21,x22,x23,x24])\n",
    "slika2 = np.array([y1,y2,y3,y4,y5,y6,y7,y8,y9,y10,y11,y12,y13,\n",
    "                   y14,y15,y16,y17,y18,y19,y20,y21,y22,y23,y24])\n",
    "\n",
    "rekonstruisane = np.array([0, 0, 0], dtype = int)\n",
    "\n",
    "for i in range(24):\n",
    "    u, d, v = np.linalg.svd(jednacine(slika1[i], slika2[i], T1, T2))\n",
    "    rekonstruisane = np.vstack((rekonstruisane, uAfine(v[3])))\n",
    "    \n",
    "rekonstruisane"
   ]
  },
  {
   "cell_type": "code",
   "execution_count": 229,
   "metadata": {},
   "outputs": [
    {
     "name": "stdout",
     "output_type": "stream",
     "text": [
      "x 1  =  [332.  65.   1.]\n",
      "x 2  =  [500.  51.   1.]\n",
      "x 3  =  [718. 172.   1.]\n",
      "x 4  =  [537. 190.   1.]\n",
      "\n",
      "x 5  =  [328. 289.   1.]\n",
      "x 6  =  [501. 271.   1.]\n",
      "x 7  =  [714. 413.   1.]\n",
      "x 8  =  [538. 436.   1.]\n",
      "\n",
      "x 9  =  [259. 339.   1.]\n",
      "x 10  =  [692. 313.   1.]\n",
      "x 11  =  [775. 380.   1.]\n",
      "x 12  =  [311. 410.   1.]\n",
      "\n",
      "x 13  =  [265. 583.   1.]\n",
      "x 14  =  [695. 548.   1.]\n",
      "x 15  =  [770. 629.   1.]\n",
      "x 16  =  [313. 673.   1.]\n",
      "\n",
      "x 17  =  [ 91. 629.   1.]\n",
      "x 18  =  [360. 481.   1.]\n",
      "x 19  =  [927. 615.   1.]\n",
      "x 20  =  [700. 791.   1.]\n",
      "\n",
      "x 21  =  [ 93. 824.   1.]\n",
      "x 22  =  [358. 659.   1.]\n",
      "x 23  =  [920. 802.   1.]\n",
      "x 24  =  [696. 996.   1.]\n",
      "\n"
     ]
    }
   ],
   "source": [
    "rekonstrusane = rekonstruisane[1:,:]\n",
    "i = 0\n",
    "for x in rekonstrusane:\n",
    "    print('x', i+1, ' = ', np.round(x*(1/x[2])))\n",
    "    if (i % 4 == 3):\n",
    "        print()\n",
    "    i = i+1"
   ]
  },
  {
   "cell_type": "code",
   "execution_count": null,
   "metadata": {},
   "outputs": [],
   "source": []
  }
 ],
 "metadata": {
  "kernelspec": {
   "display_name": "Python 3",
   "language": "python",
   "name": "python3"
  },
  "language_info": {
   "codemirror_mode": {
    "name": "ipython",
    "version": 3
   },
   "file_extension": ".py",
   "mimetype": "text/x-python",
   "name": "python",
   "nbconvert_exporter": "python",
   "pygments_lexer": "ipython3",
   "version": "3.7.4"
  }
 },
 "nbformat": 4,
 "nbformat_minor": 2
}
